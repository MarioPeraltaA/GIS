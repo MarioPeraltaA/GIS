{
 "cells": [
  {
   "cell_type": "markdown",
   "metadata": {},
   "source": [
    "## Blue scheme flow"
   ]
  },
  {
   "cell_type": "markdown",
   "metadata": {},
   "source": [
    "> JupyterNotebook to visualize `QGIS2OPENDSS` plug-in's logic flow by an abstraction of its methods and functios."
   ]
  },
  {
   "cell_type": "markdown",
   "metadata": {},
   "source": [
    "Get an arbitrary layer just as example:"
   ]
  },
  {
   "cell_type": "code",
   "execution_count": 1,
   "metadata": {},
   "outputs": [],
   "source": [
    "linesData = {\n",
    "    \"ICEobjectID\": ['401129__0', '401129__1', '401131__0', '401131__1', '401131__2'],\n",
    "    \"LibraryName\": ['LC::BT_6AAAC_AAAC_123.3_6', 'LC::BT_6AAAC_AAAC_123.3_6',\n",
    "                    'LC::BT_123.3AAAC_AAAC_123.3_1', 'LG::BT_123.3AAAC_AAAC_123.3_1',\n",
    "                    'BT_123.3AAAC_AAAC_123.3_1'],\n",
    "    \"NEUTMAT\": ['AAAC', 'AAAC', 'AAAC', 'AAAC', 'AAAC'],\n",
    "    \"NEUTSIZ\": ['123.3', '123.3', '123.3', '123.3', '123.3'],\n",
    "    \"PHASEMAT\": ['AAAC', 'AAAC', 'AAAC', 'AAAC', 'AAAC'],\n",
    "    \"PHASESIZ\": ['6', '6', '123.3', '123.3', '123.3'],\n",
    "    \"NOMVOLT\": [30, 30, 30, 30, 30],\n",
    "    \"TYPE\": ['SLC', 'SLC', 'LVC', 'LVC', 'LVC'],\n",
    "    \"LENGTH\": [0.004479549358021148, 0.04863058437331125, 0.06930650009633353, 0.0, 0.06228217256034441],\n",
    "    \"X1\": [429663.8184, 429665.7786, 430055.120986, 430095.793151, 430095.793151],\n",
    "    \"Y1\": [1100682.5245, 1100678.4966, 1100948.733, 1101004.85043, 1101004.85043],\n",
    "    \"X2\": [429665.7786, 429635.6291, 430095.793151, 430095.793151, 430132.832372],\n",
    "    \"Y2\": [1100678.4966, 1100640.3398, 1101004.85043, 1101004.85043, 1101054.92203]\n",
    "}\n"
   ]
  },
  {
   "cell_type": "markdown",
   "metadata": {},
   "source": [
    "Changes in `qgis2opendss.py` plug-in:"
   ]
  },
  {
   "cell_type": "code",
   "execution_count": 2,
   "metadata": {},
   "outputs": [],
   "source": [
    "\n",
    "# BLUE modification\n",
    "# -----------------\n",
    "nom_volt = linesData['NOMVOLT']       # Line 497\n",
    "# New lines in Blue code\n",
    "ICEobjID = linesData[\"ICEobjectID\"]   # New: list[str]\n",
    "libName = linesData[\"LibraryName\"]    # New: list[str]\n",
    "# Add to dict as in line 516\n",
    "UGlineData = {\n",
    "    \"ICEobjectID\": ICEobjID,\n",
    "    \"LibraryName\": libName\n",
    "}\n",
    "# Add to another dict as in line 526\n",
    "OHlineData = {\n",
    "    \"ICEobjectID\": ICEobjID,\n",
    "    \"LibraryName\": libName\n",
    "}\n",
    "\n",
    "# ... -> Send to Graph object\n",
    "edges = []\n",
    "Nlines = len(linesData[\"ICEobjectID\"])\n",
    "for n in range(Nlines):\n",
    "    line = {}\n",
    "    for k in linesData.keys():\n",
    "        line[k] = linesData[k][n]\n",
    "        # Other attributes of edge\n",
    "        line[\"from_bus\"] = \"from_busA\"\n",
    "        line[\"to_bus\"] = \"to_busB\"\n",
    "    edges.append(line)"
   ]
  },
  {
   "cell_type": "code",
   "execution_count": 3,
   "metadata": {},
   "outputs": [
    {
     "name": "stdout",
     "output_type": "stream",
     "text": [
      "new line.401129__0 bus1=from_busA bus2=to_busB linecode=BT_6AAAC_AAAC_123.3_6 length=0.0045 units=m\n",
      "new line.401129__1 bus1=from_busA bus2=to_busB linecode=BT_6AAAC_AAAC_123.3_6 length=0.0486 units=m\n",
      "new line.401131__0 bus1=from_busA bus2=to_busB linecode=BT_123.3AAAC_AAAC_123.3_1 length=0.0693 units=m\n",
      "new line.401131__1 bus1=from_busA bus2=to_busB geometry=BT_123.3AAAC_AAAC_123.3_1 length=0.0000 units=m\n",
      "new line.MVLVCPAAAC bus1=from_busA bus2=to_busB geometry=AAAC123.3123.3 length=0.0623 units=m\n"
     ]
    }
   ],
   "source": [
    "# ... -> Line 8443: Get from graph and write *.dss file\n",
    "for DATA in edges:\n",
    "    # New lines in Blue code\n",
    "    libcode = DATA[\"LibraryName\"]\n",
    "\n",
    "    # New: line 8458\n",
    "    if \"::\" in libcode:\n",
    "        equipment =  libcode.split(\"::\")[1]\n",
    "    else:\n",
    "        # About equipment: original lines from 8452 to 8457 (inclusive)\n",
    "        equipment = DATA[\"PHASEMAT\"] + DATA[\"PHASESIZ\"] + DATA[\"NEUTSIZ\"]\n",
    "\n",
    "    frombus = DATA[\"from_bus\"]\n",
    "    tobus = DATA[\"to_bus\"]\n",
    "    lineLen = \"{0:.4f}\".format(DATA[\"LENGTH\"])\n",
    "\n",
    "    if \"::\" in libcode:\n",
    "        lineName = DATA[\"ICEobjectID\"]\n",
    "    else:\n",
    "        # About lineName: original lines from 8463 to 8466 (inclusive)\n",
    "        lineName = \"MV\" + DATA[\"TYPE\"] + 'P' + DATA[\"NEUTMAT\"]\n",
    "\n",
    "    # Comment \"geometry\" in line: 8619\n",
    "    line = 'new line.' + lineName + ' bus1=' + frombus\n",
    "    line += ' bus2=' +  tobus  # + ' geometry=' + equipment\n",
    "    # New\n",
    "    if \"LC::\" in libcode:\n",
    "        line += ' linecode=' + equipment\n",
    "    elif \"LG::\" in libcode:\n",
    "        line += ' geometry=' + equipment\n",
    "    elif \"::\" not in libcode:\n",
    "        line += ' geometry=' + equipment\n",
    "    else:\n",
    "        raise Exception((\"LibraryName can only be LC:: or LG:: \"),\n",
    "                        (\"see documentation of Line object of shape.py module.\"))\n",
    "    # Continue in line 8620\n",
    "    line += ' length=' + lineLen + ' units=m'\n",
    "    print(line)"
   ]
  },
  {
   "cell_type": "markdown",
   "metadata": {},
   "source": [
    "Special transformer connections: `Open wye - Open Delta`\n",
    "\n",
    "\n",
    "```shell\n",
    "\n",
    "new transformer.T1 bus1=B1.1.0 bus2=B2.1.2 ...\n",
    "new transformer.T2 bus1=B1.2.0 bus2=B2.2.3 ...\n",
    "```\n"
   ]
  },
  {
   "cell_type": "markdown",
   "metadata": {},
   "source": [
    "### Changes"
   ]
  },
  {
   "cell_type": "markdown",
   "metadata": {},
   "source": [
    "- Add another conditional in line 790 <br>\n",
    "- Line 825 change: 'LOADCONNS': '.1.2.3', 'LOADCONF': 'delta' for 'LOADCONNS': phase, 'LOADCONF': 'wye'\n",
    "Assuming same phase designation of transformer for load service and `wye` for OpenDSS convention in such cases. <br>\n",
    "- Line 9237 add conditional of Open Delta in secondary, 9239 `OD` True<br>\n",
    "- Line 9304 msg += 'en el secundario sólo puede'   #  ¿ Sería en el primario? <br>"
   ]
  },
  {
   "cell_type": "code",
   "execution_count": 3,
   "metadata": {},
   "outputs": [],
   "source": [
    "phase = \".1.3\"\n",
    "ph = \"0\" + phase\n",
    "ph = ph.split(\".\")\n",
    "primConnA = f\".{ph[1]}.{ph[0]}\"\n",
    "primConnB = f\".{ph[2]}.{ph[0]}\"\n"
   ]
  },
  {
   "cell_type": "code",
   "execution_count": 4,
   "metadata": {},
   "outputs": [
    {
     "name": "stdout",
     "output_type": "stream",
     "text": [
      ".1.2\n",
      ".2.3\n"
     ]
    }
   ],
   "source": [
    "# Keep secondary lagging 30deg\n",
    "if phase == \".1.2\":\n",
    "    secConnA = \".1.2\"\n",
    "    secConnB = \".2.3\"\n",
    "elif phase == \".1.3\":\n",
    "    secConnA = \".1.2\"\n",
    "    secConnB = \".2.3\"\n",
    "elif phase == \".2.3\":\n",
    "    secConnA = \".2.3\"\n",
    "    secConnB = \".3.1\"\n",
    "\n",
    "\n",
    "print(secConnA)\n",
    "print(secConnB)"
   ]
  },
  {
   "cell_type": "code",
   "execution_count": 6,
   "metadata": {},
   "outputs": [
    {
     "name": "stdout",
     "output_type": "stream",
     "text": [
      "new transformer.unit_A phases=1 windings=2 %imag=1.00 Xhl=5.90 %Rs=[1.70 1.70] %noloadloss=0.37 buses=[sourcebus.1.0 B.1.2] kvs=[19.92 0.24] kvas=[50 50] conns=[wye wye] Taps=[0.95, 1] normhkva=50 !GroupMV=210 !GroupLV=210\n",
      "new transformer.unit_B phases=1 windings=2 %imag=1.00 Xhl=5.90 %Rs=[1.70 1.70] %noloadloss=0.37 buses=[sourcebus.3.0 B.2.3] kvs=[19.92 0.24] kvas=[50 50] conns=[wye wye] Taps=[0.95, 1] normhkva=50 !GroupMV=210 !GroupLV=210\n"
     ]
    }
   ],
   "source": [
    "trafName1 = \"unit_A\"\n",
    "imagA = \"%imag=1.00\"\n",
    "impedanceA = \"Xhl=5.90 %Rs=[1.70 1.70]\"\n",
    "noloadlossA = \"%noloadloss=0.37\"\n",
    "busMV = \"sourcebus\"\n",
    "busLV = \"B\"\n",
    "kV_MedLN = \"19.92\"\n",
    "kV_LowLL = \"0.24\"\n",
    "kVA_trafoA = \"50\"\n",
    "tap = \"0.95\"\n",
    "normhkva_A = \" normhkva=\" + kVA_trafoA\n",
    "grupo_trafo_mv = \"209\"\n",
    "trafName2 = \"unit_B\"\n",
    "grupo_trafo_mv = \"210\"\n",
    "grupo_trafo_lv = \"210\"\n",
    "\n",
    "# Write file\n",
    "line_A = 'new transformer.' + trafName1 + ' phases=1 windings=2 ' + imagA + ' '\n",
    "line_A += impedanceA + ' ' + noloadlossA + ' buses=[' + busMV + primConnA + ' '\n",
    "line_A +=  busLV + secConnA + ']'\n",
    "line_A += ' kvs=[' + kV_MedLN + ' ' + kV_LowLL + '] kvas=[' + kVA_trafoA + ' ' + kVA_trafoA + ']'\n",
    "line_A += ' conns=[wye wye] Taps=[' + tap + ', 1]' + normhkva_A + ' !GroupMV=' + grupo_trafo_mv\n",
    "line_B = 'new transformer.' + trafName2 + ' phases=1 windings=2 ' + imagA\n",
    "line_B += ' ' + impedanceA + ' ' + noloadlossA + ' buses=[' + busMV + primConnB\n",
    "line_B += ' ' + busLV + secConnB \n",
    "line_B += '] kvs=[' + kV_MedLN + ' ' + kV_LowLL + '] kvas=[' + kVA_trafoA + ' '\n",
    "line_B += kVA_trafoA + '] conns=[wye wye] Taps=[' + tap + ', 1]'\n",
    "line_B +=  normhkva_A + ' !GroupMV=' + grupo_trafo_mv \n",
    "line_A += ' !GroupLV=' + grupo_trafo_lv\n",
    "line_B += ' !GroupLV=' + grupo_trafo_lv  \n",
    "\n",
    "print(line_A)\n",
    "print(line_B)\n"
   ]
  },
  {
   "cell_type": "code",
   "execution_count": null,
   "metadata": {},
   "outputs": [],
   "source": [
    "# Define connections primary: OYn\n",
    "ph = \"0\" + phase\n",
    "ph = ph.split(\".\")\n",
    "primConnA = f\".{ph[1]}.{ph[0]}\"\n",
    "primConnB = f\".{ph[2]}.{ph[0]}\"\n",
    "# Define connections secondary: Od\n",
    "if phase == \".1.2\":\n",
    "    secConnA = \".1.2\"\n",
    "    secConnB = \".2.3\"\n",
    "elif phase == \".1.3\":\n",
    "    secConnA = \".1.2\"\n",
    "    secConnB = \".2.3\"\n",
    "elif phase == \".2.3\":\n",
    "    secConnA = \".2.3\"\n",
    "    secConnB = \".3.1\"\n"
   ]
  },
  {
   "cell_type": "code",
   "execution_count": null,
   "metadata": {},
   "outputs": [],
   "source": [
    "line_A = 'new transformer.' + trafName1 + ' phases=1 windings=2 ' + imagA + ' '\n",
    "line_A += impedanceA + ' ' + noloadlossA + ' buses=[' + busMV + conexME_trafoA + ' '\n",
    "line_A +=  busLV + conexBA_trafoA + '] '\n",
    "line_A += ' kvs=[' + kV_MedLN + ' ' + kV_LowLL + '] kvas=[' + kVA_trafoA + ' ' + kVA_trafoA + ']'\n",
    "line_A += ' conns=[wye wye] Taps=[' + tap + ', 1]' + normhkva_A + ' !GroupMV=' + grupo_trafo_mv"
   ]
  }
 ],
 "metadata": {
  "kernelspec": {
   "display_name": "powersys",
   "language": "python",
   "name": "python3"
  },
  "language_info": {
   "codemirror_mode": {
    "name": "ipython",
    "version": 3
   },
   "file_extension": ".py",
   "mimetype": "text/x-python",
   "name": "python",
   "nbconvert_exporter": "python",
   "pygments_lexer": "ipython3",
   "version": "3.10.11"
  },
  "orig_nbformat": 4
 },
 "nbformat": 4,
 "nbformat_minor": 2
}
